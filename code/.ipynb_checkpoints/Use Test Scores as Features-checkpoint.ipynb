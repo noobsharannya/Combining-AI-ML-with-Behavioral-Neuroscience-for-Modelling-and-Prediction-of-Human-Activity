{
 "cells": [
  {
   "cell_type": "code",
   "execution_count": 20,
   "id": "2f35e189",
   "metadata": {},
   "outputs": [],
   "source": [
    "import pandas as pd\n",
    "import numpy as np\n",
    "from sklearn.model_selection import train_test_split\n",
    "from sklearn.ensemble import RandomForestClassifier\n",
    "from sklearn.linear_model import LogisticRegression\n",
    "from sklearn.neural_network import MLPClassifier\n",
    "from sklearn.svm import SVC\n",
    "from sklearn.metrics import accuracy_score, classification_report, confusion_matrix, silhouette_score, normalized_mutual_info_score,adjusted_rand_score\n",
    "from sklearn.decomposition import PCA\n",
    "import re\n",
    "import matplotlib.pyplot as plt\n",
    "from collections import Counter\n",
    "from sklearn.cluster import KMeans\n",
    "from sklearn.datasets import make_blobs"
   ]
  },
  {
   "cell_type": "code",
   "execution_count": 24,
   "id": "6a117d8a",
   "metadata": {},
   "outputs": [],
   "source": [
    "data=pd.read_csv('raw_data.csv')\n",
    "com=pd.read_csv('data.csv')\n",
    "features=pd.read_csv('features.csv')"
   ]
  },
  {
   "cell_type": "code",
   "execution_count": 7,
   "id": "50904172",
   "metadata": {},
   "outputs": [],
   "source": [
    "feature_titles=[]\n",
    "for col in com.columns[:17]:\n",
    "    feature_titles.append(col)"
   ]
  },
  {
   "cell_type": "code",
   "execution_count": 11,
   "id": "74f3601a",
   "metadata": {},
   "outputs": [],
   "source": [
    "X=[]\n",
    "for i in range(com.shape[0]):\n",
    "    x=[]\n",
    "    for feature in feature_titles:\n",
    "        x.append(float(com[feature][i]))\n",
    "    X.append(x)"
   ]
  },
  {
   "cell_type": "code",
   "execution_count": 13,
   "id": "6f495f78",
   "metadata": {},
   "outputs": [],
   "source": [
    "Y=[int(x) for x in list(com['Final Label'])]"
   ]
  },
  {
   "cell_type": "code",
   "execution_count": 14,
   "id": "dc36ab6f",
   "metadata": {},
   "outputs": [
    {
     "name": "stdout",
     "output_type": "stream",
     "text": [
      "Support Vector Machines: \n",
      "Training accuracy: 0.7531165974089464\n",
      "Testing accuracy: 0.789010989010989\n",
      "Random Forest Classifier :\n",
      "Training accuracy: 1.0\n",
      "Testing accuracy: 0.9164835164835164\n",
      "Logistic Regression Classifier :\n",
      "Training accuracy: 0.6964067465167441\n",
      "Testing accuracy: 0.756043956043956\n",
      "Multi Layer Perceptron :\n",
      "Training accuracy: 0.9330237105842092\n",
      "Testing accuracy: 0.7912087912087912\n"
     ]
    }
   ],
   "source": [
    "X_train, X_test, y_train, y_test = train_test_split(X, Y, test_size=0.1, random_state=42)\n",
    "svm_classifier = SVC(kernel='rbf', C=1.0, random_state=42)\n",
    "svm_classifier.fit(X_train, y_train)\n",
    "y_pred = svm_classifier.predict(X_train)\n",
    "print(\"Support Vector Machines: \")\n",
    "print(\"Training accuracy: \"+str(accuracy_score(y_train, y_pred)))\n",
    "y_pred = svm_classifier.predict(X_test)\n",
    "print(\"Testing accuracy: \"+str(accuracy_score(y_test, y_pred)))\n",
    "random_forest_classifier = RandomForestClassifier(n_estimators=100, random_state=42)\n",
    "random_forest_classifier.fit(X_train, y_train)\n",
    "y_pred = random_forest_classifier.predict(X_train)\n",
    "print(\"Random Forest Classifier :\")\n",
    "print(\"Training accuracy: \"+str(accuracy_score(y_train, y_pred)))\n",
    "y_pred = random_forest_classifier.predict(X_test)\n",
    "print(\"Testing accuracy: \"+str(accuracy_score(y_test, y_pred)))\n",
    "logistic_regression_classifier = LogisticRegression(max_iter=1000, random_state=42)\n",
    "logistic_regression_classifier.fit(X_train, y_train)\n",
    "y_pred = logistic_regression_classifier.predict(X_train)\n",
    "print(\"Logistic Regression Classifier :\")\n",
    "print(\"Training accuracy: \"+str(accuracy_score(y_train, y_pred)))\n",
    "y_pred = logistic_regression_classifier.predict(X_test)\n",
    "print(\"Testing accuracy: \"+str(accuracy_score(y_test, y_pred)))\n",
    "mlp = MLPClassifier(hidden_layer_sizes=(100,50), max_iter=500, random_state=42)\n",
    "mlp.fit(X_train, y_train)\n",
    "y_pred = mlp.predict(X_train)\n",
    "print(\"Multi Layer Perceptron :\")\n",
    "print(\"Training accuracy: \"+str(accuracy_score(y_train, y_pred)))\n",
    "y_pred = mlp.predict(X_test)\n",
    "print(\"Testing accuracy: \"+str(accuracy_score(y_test, y_pred)))"
   ]
  },
  {
   "cell_type": "code",
   "execution_count": 16,
   "id": "394268ce",
   "metadata": {},
   "outputs": [
    {
     "data": {
      "image/png": "[encoded data removed]",
      "text/plain": [
       "<Figure size 432x288 with 1 Axes>"
      ]
     },
     "metadata": {
      "needs_background": "light"
     },
     "output_type": "display_data"
    }
   ],
   "source": [
    "k_values=[]\n",
    "scores=[]\n",
    "for k in range(2,10):\n",
    "    kmeans = KMeans(n_clusters=k, random_state=42)\n",
    "    kmeans.fit(X)\n",
    "    labels = kmeans.labels_\n",
    "    k_values.append(k)\n",
    "    scores.append(silhouette_score(X, labels))\n",
    "plt.plot(k_values,scores)\n",
    "plt.show()"
   ]
  },
  {
   "cell_type": "code",
   "execution_count": 18,
   "id": "ca6fbe59",
   "metadata": {},
   "outputs": [],
   "source": [
    "kmeans = KMeans(n_clusters=3, random_state=4)\n",
    "kmeans.fit(X)\n",
    "labels = kmeans.labels_"
   ]
  },
  {
   "cell_type": "code",
   "execution_count": 21,
   "id": "113dd158",
   "metadata": {},
   "outputs": [
    {
     "name": "stdout",
     "output_type": "stream",
     "text": [
      "0.04052479932846363\n",
      "0.017304394539405972\n"
     ]
    }
   ],
   "source": [
    "print(normalized_mutual_info_score(labels,Y))\n",
    "print(adjusted_rand_score(labels,Y))"
   ]
  },
  {
   "cell_type": "code",
   "execution_count": 22,
   "id": "798d73e4",
   "metadata": {},
   "outputs": [],
   "source": [
    "mapping={\n",
    "     'most people':3,\n",
    "    'many people':2,\n",
    "    'some people':1,\n",
    "    'a few people':0,\n",
    "    'one or two people':-1,\n",
    "    'nobody':-2,\n",
    "    'usually': 3,\n",
    "    'often':2,\n",
    "    'sometimes':1,\n",
    "    'occasionally':0,\n",
    "    'rarely':-1,\n",
    "    'never':-2,\n",
    "    'disagree':-2,\n",
    "    'slightly disagree':-1,\n",
    "    'neutral':0,\n",
    "    'slightly agree':1,\n",
    "    'agree':2\n",
    "}"
   ]
  },
  {
   "cell_type": "code",
   "execution_count": 25,
   "id": "02f0f415",
   "metadata": {},
   "outputs": [],
   "source": [
    "mean=[]\n",
    "for i in data.index:\n",
    "    s=0\n",
    "    c=0\n",
    "    for column in data.columns[2:]:\n",
    "        val=data[column][i]\n",
    "        res = re.sub(' +', ' ',val)\n",
    "        res=res.lower()\n",
    "        res=''.join(c for c in res if (c.isalpha()or c==' '))\n",
    "        res=res.strip()\n",
    "        if(i>=54 and i<=73 and not pd.isna(val)):\n",
    "            s=s+int(val)\n",
    "            c=c+1\n",
    "        elif(res in mapping):\n",
    "            s=s+mapping[res]\n",
    "            c=c+1\n",
    "    if(c==0):\n",
    "        print(data.loc[i])\n",
    "    s=s/c\n",
    "    mean.append(s)"
   ]
  },
  {
   "cell_type": "code",
   "execution_count": 33,
   "id": "709dc484",
   "metadata": {},
   "outputs": [],
   "source": [
    "def compute_features(df,feature_mapping):\n",
    "    X=[]\n",
    "    cnt=0\n",
    "    for column in df.columns[2:]:\n",
    "        values=list(df[column])\n",
    "        l=len(values)\n",
    "        x=[]\n",
    "        for i in range(l):\n",
    "            value=values[i]\n",
    "            res = re.sub(' +', ' ',value)\n",
    "            res=res.lower()\n",
    "            res=''.join(y for y in res if (y.isalpha()or y==' '))\n",
    "            res=res.strip()\n",
    "            if(i>=54 and i<=73 and not pd.isna(value)): \n",
    "                x.append(int(value))\n",
    "            elif(res in feature_mapping):\n",
    "                x.append(feature_mapping[res])\n",
    "            else:\n",
    "                x.append(mean[i])\n",
    "        for feature in feature_titles:\n",
    "            x.append(float(com[feature][cnt]))\n",
    "        X.append(x)\n",
    "        cnt=cnt+1\n",
    "    return np.array(X)"
   ]
  },
  {
   "cell_type": "code",
   "execution_count": 34,
   "id": "f4d2adf0",
   "metadata": {},
   "outputs": [],
   "source": [
    "X=compute_features(data,mapping)"
   ]
  },
  {
   "cell_type": "code",
   "execution_count": 36,
   "id": "0b3ff25c",
   "metadata": {},
   "outputs": [
    {
     "name": "stdout",
     "output_type": "stream",
     "text": [
      "Support Vector Machines: \n",
      "Training accuracy: 0.7587386946956735\n",
      "Testing accuracy: 0.7978021978021979\n",
      "Random Forest Classifier :\n",
      "Training accuracy: 1.0\n",
      "Testing accuracy: 0.8593406593406593\n",
      "Logistic Regression Classifier :\n",
      "Training accuracy: 0.7206062087509166\n",
      "Testing accuracy: 0.7274725274725274\n",
      "Multi Layer Perceptron :\n",
      "Training accuracy: 0.995600097775605\n",
      "Testing accuracy: 0.7912087912087912\n"
     ]
    }
   ],
   "source": [
    "X_train, X_test, y_train, y_test = train_test_split(X, Y, test_size=0.1, random_state=42)\n",
    "svm_classifier = SVC(kernel='rbf', C=1.0, random_state=42)\n",
    "svm_classifier.fit(X_train, y_train)\n",
    "y_pred = svm_classifier.predict(X_train)\n",
    "print(\"Support Vector Machines: \")\n",
    "print(\"Training accuracy: \"+str(accuracy_score(y_train, y_pred)))\n",
    "y_pred = svm_classifier.predict(X_test)\n",
    "print(\"Testing accuracy: \"+str(accuracy_score(y_test, y_pred)))\n",
    "random_forest_classifier = RandomForestClassifier(n_estimators=100, random_state=42)\n",
    "random_forest_classifier.fit(X_train, y_train)\n",
    "y_pred = random_forest_classifier.predict(X_train)\n",
    "print(\"Random Forest Classifier :\")\n",
    "print(\"Training accuracy: \"+str(accuracy_score(y_train, y_pred)))\n",
    "y_pred = random_forest_classifier.predict(X_test)\n",
    "print(\"Testing accuracy: \"+str(accuracy_score(y_test, y_pred)))\n",
    "logistic_regression_classifier = LogisticRegression(max_iter=1000, random_state=42)\n",
    "logistic_regression_classifier.fit(X_train, y_train)\n",
    "y_pred = logistic_regression_classifier.predict(X_train)\n",
    "print(\"Logistic Regression Classifier :\")\n",
    "print(\"Training accuracy: \"+str(accuracy_score(y_train, y_pred)))\n",
    "y_pred = logistic_regression_classifier.predict(X_test)\n",
    "print(\"Testing accuracy: \"+str(accuracy_score(y_test, y_pred)))\n",
    "mlp = MLPClassifier(hidden_layer_sizes=(100,50), max_iter=500, random_state=42)\n",
    "mlp.fit(X_train, y_train)\n",
    "y_pred = mlp.predict(X_train)\n",
    "print(\"Multi Layer Perceptron :\")\n",
    "print(\"Training accuracy: \"+str(accuracy_score(y_train, y_pred)))\n",
    "y_pred = mlp.predict(X_test)\n",
    "print(\"Testing accuracy: \"+str(accuracy_score(y_test, y_pred)))"
   ]
  },
  {
   "cell_type": "code",
   "execution_count": null,
   "id": "a9ce1627",
   "metadata": {},
   "outputs": [],
   "source": []
  }
 ],
 "metadata": {
  "kernelspec": {
   "display_name": "Python 3 (ipykernel)",
   "language": "python",
   "name": "python3"
  },
  "language_info": {
   "codemirror_mode": {
    "name": "ipython",
    "version": 3
   },
   "file_extension": ".py",
   "mimetype": "text/x-python",
   "name": "python",
   "nbconvert_exporter": "python",
   "pygments_lexer": "ipython3",
   "version": "3.9.7"
  }
 },
 "nbformat": 4,
 "nbformat_minor": 5
}
