{
 "cells": [
  {
   "cell_type": "code",
   "execution_count": 87,
   "id": "cfb57fed",
   "metadata": {},
   "outputs": [],
   "source": [
    "import pandas as pd\n",
    "import numpy as np\n",
    "from sklearn.model_selection import train_test_split\n",
    "from sklearn.ensemble import RandomForestClassifier\n",
    "from sklearn.linear_model import LogisticRegression\n",
    "from sklearn.neural_network import MLPClassifier\n",
    "from sklearn.svm import SVC\n",
    "from sklearn.metrics import accuracy_score, classification_report, confusion_matrix\n",
    "import re"
   ]
  },
  {
   "cell_type": "code",
   "execution_count": 88,
   "id": "3ff2a6fd",
   "metadata": {},
   "outputs": [],
   "source": [
    "data=pd.read_csv('raw_data.csv')\n",
    "com=pd.read_csv('data.csv')\n",
    "features=pd.read_csv('features.csv')"
   ]
  },
  {
   "cell_type": "code",
   "execution_count": 89,
   "id": "89edfe44",
   "metadata": {},
   "outputs": [],
   "source": [
    "def I_label(score):\n",
    "    if(score==6 or score==7):\n",
    "        return 0\n",
    "    if(score>=2 and score <=5):\n",
    "        return 1\n",
    "    else:\n",
    "        return 2"
   ]
  },
  {
   "cell_type": "code",
   "execution_count": 90,
   "id": "cd045ded",
   "metadata": {},
   "outputs": [],
   "source": [
    "def C_label(score):\n",
    "    if(score>=4 and score<=7):\n",
    "        return 0\n",
    "    elif(score==2 or score==3):\n",
    "        return 1\n",
    "    else:\n",
    "        return 2"
   ]
  },
  {
   "cell_type": "code",
   "execution_count": 91,
   "id": "1ec9488a",
   "metadata": {},
   "outputs": [],
   "source": [
    "def A_label(score):\n",
    "    if(score>=4 and score<=6):\n",
    "        return 0\n",
    "    if(score>=7 and score <=9):\n",
    "        return 1\n",
    "    else:\n",
    "        return 2"
   ]
  },
  {
   "cell_type": "code",
   "execution_count": 92,
   "id": "3acca9a0",
   "metadata": {},
   "outputs": [],
   "source": [
    "def AM_LC_label(score):\n",
    "    if(score>=4 and score<=5):\n",
    "        return 0\n",
    "    elif(score>=2.6 and score<=3.9):\n",
    "        return 1\n",
    "    else:\n",
    "        return 2"
   ]
  },
  {
   "cell_type": "code",
   "execution_count": 93,
   "id": "254a1163",
   "metadata": {},
   "outputs": [],
   "source": [
    "def rest_label(score):\n",
    "    if(score>=4 and score<=6):\n",
    "        return 0\n",
    "    elif(score>=2.6 and score<=3.9):\n",
    "        return 1\n",
    "    else:\n",
    "        return 2"
   ]
  },
  {
   "cell_type": "code",
   "execution_count": 94,
   "id": "c526dcc9",
   "metadata": {},
   "outputs": [],
   "source": [
    "def EN_label(score):\n",
    "    if(score>=0 and score<=25):\n",
    "        return 0\n",
    "    elif(score>=26 and score<=40):\n",
    "        return 1\n",
    "    else:\n",
    "        return 2"
   ]
  },
  {
   "cell_type": "code",
   "execution_count": 95,
   "id": "590c2c03",
   "metadata": {},
   "outputs": [],
   "source": [
    "def AO_label(score):\n",
    "    if(score>=0 and score<=30):\n",
    "        return 0\n",
    "    elif(score>=31 and score<=40):\n",
    "        return 1\n",
    "    else:\n",
    "        return 2"
   ]
  },
  {
   "cell_type": "code",
   "execution_count": 96,
   "id": "8103554f",
   "metadata": {},
   "outputs": [],
   "source": [
    "def C3_label(score):\n",
    "    if(score>=36 and score<=50):\n",
    "        return 0\n",
    "    elif(score>=26 and score<=35):\n",
    "        return 1\n",
    "    else:\n",
    "        return 2"
   ]
  },
  {
   "cell_type": "code",
   "execution_count": 97,
   "id": "abc8f89a",
   "metadata": {},
   "outputs": [],
   "source": [
    "def test1_3(trait,start,num_features,label):\n",
    "    Y=[label(x) for x in list(com[trait])]\n",
    "    feature_mapping=[]\n",
    "    codelist=[]\n",
    "    for i in range(start,start+num_features):\n",
    "        codelist.append(features['Code'][i])\n",
    "        x=[]\n",
    "        for col in features.columns[4:]:\n",
    "            val=features[col][i]\n",
    "            if not pd.isna(val):\n",
    "                x.append(features[col][i])\n",
    "        l=len(x)\n",
    "        newdict={}\n",
    "        for j in range(l):\n",
    "            res = re.sub(' +', ' ',x[j])\n",
    "            res=res.lower()\n",
    "            res=''.join(x for x in res if (x.isalpha()or x==' '))\n",
    "            res=res.strip()\n",
    "            newdict[res]=j\n",
    "        feature_mapping.append(newdict)\n",
    "    df=data[data['Code'].isin(codelist)]\n",
    "    X=[]\n",
    "    cnt=0\n",
    "    to_delete=[]\n",
    "    for column in df.columns[2:]:\n",
    "        values=list(df[column])\n",
    "        l=len(values)\n",
    "        x=[]\n",
    "        for i in range(l):\n",
    "            value=values[i]\n",
    "            res = re.sub(' +', ' ',value)\n",
    "            res=res.lower()\n",
    "            res=''.join(x for x in res if (x.isalpha()or x==' '))\n",
    "            res=res.strip()\n",
    "            if(res not in feature_mapping[i]):\n",
    "                x=[]\n",
    "                break\n",
    "            else:\n",
    "                x.append(feature_mapping[i][res])\n",
    "        if(len(x)>0):\n",
    "            X.append(x)\n",
    "        else:\n",
    "            to_delete.append(cnt)\n",
    "        cnt=cnt+1\n",
    "    new_y=[]\n",
    "    for i in range(len(Y)):\n",
    "        if(i not in to_delete):\n",
    "            new_y.append(Y[i])\n",
    "    X_train, X_test, y_train, y_test = train_test_split(X, new_y, test_size=0.1, random_state=42)\n",
    "    print(len(X))\n",
    "    svm_classifier = SVC(kernel='rbf', C=1.0, random_state=42)\n",
    "    svm_classifier.fit(X_train, y_train)\n",
    "    y_pred = svm_classifier.predict(X_train)\n",
    "    print(\"Support Vector Machines: \")\n",
    "    print(\"Training accuracy: \"+str(accuracy_score(y_train, y_pred)))\n",
    "    y_pred = svm_classifier.predict(X_test)\n",
    "    print(\"Testing accuracy: \"+str(accuracy_score(y_test, y_pred)))\n",
    "    random_forest_classifier = RandomForestClassifier(n_estimators=100, random_state=42)\n",
    "    random_forest_classifier.fit(X_train, y_train)\n",
    "    y_pred = random_forest_classifier.predict(X_train)\n",
    "    print(\"Random Forest Classifier :\")\n",
    "    print(\"Training accuracy: \"+str(accuracy_score(y_train, y_pred)))\n",
    "    y_pred = random_forest_classifier.predict(X_test)\n",
    "    print(\"Testing accuracy: \"+str(accuracy_score(y_test, y_pred)))\n",
    "    logistic_regression_classifier = LogisticRegression(max_iter=1000, random_state=42)\n",
    "    logistic_regression_classifier.fit(X_train, y_train)\n",
    "    y_pred = logistic_regression_classifier.predict(X_train)\n",
    "    print(\"Logistic Regression Classifier :\")\n",
    "    print(\"Training accuracy: \"+str(accuracy_score(y_train, y_pred)))\n",
    "    y_pred = logistic_regression_classifier.predict(X_test)\n",
    "    print(\"Testing accuracy: \"+str(accuracy_score(y_test, y_pred)))\n",
    "    mlp = MLPClassifier(hidden_layer_sizes=(100,50), max_iter=500, random_state=42)\n",
    "    mlp.fit(X_train, y_train)\n",
    "    y_pred = mlp.predict(X_train)\n",
    "    print(\"Multi Layer Perceptron :\")\n",
    "    print(\"Training accuracy: \"+str(accuracy_score(y_train, y_pred)))\n",
    "    y_pred = mlp.predict(X_test)\n",
    "    print(\"Testing accuracy: \"+str(accuracy_score(y_test, y_pred)))"
   ]
  },
  {
   "cell_type": "code",
   "execution_count": 98,
   "id": "681ff617",
   "metadata": {},
   "outputs": [],
   "source": [
    "def test2(trait,start,num_features,label):\n",
    "    Y=[label(x) for x in list(com[trait])]\n",
    "    codelist=[]\n",
    "    for i in range(start,start+num_features):\n",
    "        codelist.append(features['Code'][i])\n",
    "    df=data[data['Code'].isin(codelist)]\n",
    "    X=[]\n",
    "    cnt=0\n",
    "    for column in df.columns[2:]:\n",
    "        values=list(df[column])\n",
    "        l=len(values)\n",
    "        x=[]\n",
    "        for i in range(l):\n",
    "            value=int(values[i])\n",
    "            x.append(value)\n",
    "        X.append(x)\n",
    "    new_y=[]\n",
    "    X_train, X_test, y_train, y_test = train_test_split(X, Y, test_size=0.1, random_state=42)\n",
    "    print(len(X))\n",
    "    svm_classifier = SVC(kernel='rbf', C=1.0, random_state=42)\n",
    "    svm_classifier.fit(X_train, y_train)\n",
    "    y_pred = svm_classifier.predict(X_train)\n",
    "    print(\"Support Vector Machines: \")\n",
    "    print(\"Training accuracy: \"+str(accuracy_score(y_train, y_pred)))\n",
    "    y_pred = svm_classifier.predict(X_test)\n",
    "    print(\"Testing accuracy: \"+str(accuracy_score(y_test, y_pred)))\n",
    "    random_forest_classifier = RandomForestClassifier(n_estimators=100, random_state=42)\n",
    "    random_forest_classifier.fit(X_train, y_train)\n",
    "    y_pred = random_forest_classifier.predict(X_train)\n",
    "    print(\"Random Forest Classifier :\")\n",
    "    print(\"Training accuracy: \"+str(accuracy_score(y_train, y_pred)))\n",
    "    y_pred = random_forest_classifier.predict(X_test)\n",
    "    print(\"Testing accuracy: \"+str(accuracy_score(y_test, y_pred)))\n",
    "    logistic_regression_classifier = LogisticRegression(max_iter=1000, random_state=42)\n",
    "    logistic_regression_classifier.fit(X_train, y_train)\n",
    "    y_pred = logistic_regression_classifier.predict(X_train)\n",
    "    print(\"Logistic Regression Classifier :\")\n",
    "    print(\"Training accuracy: \"+str(accuracy_score(y_train, y_pred)))\n",
    "    y_pred = logistic_regression_classifier.predict(X_test)\n",
    "    print(\"Testing accuracy: \"+str(accuracy_score(y_test, y_pred)))\n",
    "    mlp = MLPClassifier(hidden_layer_sizes=(100,50), max_iter=500, random_state=42)\n",
    "    mlp.fit(X_train, y_train)\n",
    "    y_pred = mlp.predict(X_train)\n",
    "    print(\"Multi Layer Perceptron :\")\n",
    "    print(\"Training accuracy: \"+str(accuracy_score(y_train, y_pred)))\n",
    "    y_pred = mlp.predict(X_test)\n",
    "    print(\"Testing accuracy: \"+str(accuracy_score(y_test, y_pred)))"
   ]
  },
  {
   "cell_type": "code",
   "execution_count": 99,
   "id": "af5c9e5e",
   "metadata": {},
   "outputs": [
    {
     "name": "stdout",
     "output_type": "stream",
     "text": [
      "4546\n",
      "Support Vector Machines: \n",
      "Training accuracy: 0.922268394035688\n",
      "Testing accuracy: 0.9208791208791208\n",
      "Random Forest Classifier :\n",
      "Training accuracy: 1.0\n",
      "Testing accuracy: 0.9758241758241758\n",
      "Logistic Regression Classifier :\n",
      "Training accuracy: 0.807382058176485\n",
      "Testing accuracy: 0.8285714285714286\n",
      "Multi Layer Perceptron :\n",
      "Training accuracy: 1.0\n",
      "Testing accuracy: 0.9428571428571428\n"
     ]
    }
   ],
   "source": [
    "test1_3('EI',0,9,I_label)"
   ]
  },
  {
   "cell_type": "code",
   "execution_count": 100,
   "id": "c8c54ab1",
   "metadata": {},
   "outputs": [
    {
     "name": "stdout",
     "output_type": "stream",
     "text": [
      "4233\n",
      "Support Vector Machines: \n",
      "Training accuracy: 0.9052244683644001\n",
      "Testing accuracy: 0.8985849056603774\n",
      "Random Forest Classifier :\n",
      "Training accuracy: 1.0\n",
      "Testing accuracy: 0.9811320754716981\n",
      "Logistic Regression Classifier :\n",
      "Training accuracy: 0.48674192701496455\n",
      "Testing accuracy: 0.4669811320754717\n",
      "Multi Layer Perceptron :\n",
      "Training accuracy: 0.9824100813861906\n",
      "Testing accuracy: 0.9174528301886793\n"
     ]
    }
   ],
   "source": [
    "test1_3('WI',9,9,I_label)"
   ]
  },
  {
   "cell_type": "code",
   "execution_count": 101,
   "id": "06d30377",
   "metadata": {},
   "outputs": [
    {
     "name": "stdout",
     "output_type": "stream",
     "text": [
      "4256\n",
      "Support Vector Machines: \n",
      "Training accuracy: 0.9169712793733682\n",
      "Testing accuracy: 0.8967136150234741\n",
      "Random Forest Classifier :\n",
      "Training accuracy: 1.0\n",
      "Testing accuracy: 0.9835680751173709\n",
      "Logistic Regression Classifier :\n",
      "Training accuracy: 0.785378590078329\n",
      "Testing accuracy: 0.8004694835680751\n",
      "Multi Layer Perceptron :\n",
      "Training accuracy: 0.9994778067885117\n",
      "Testing accuracy: 0.9460093896713615\n"
     ]
    }
   ],
   "source": [
    "test1_3('EC',18,9,C_label)"
   ]
  },
  {
   "cell_type": "code",
   "execution_count": 102,
   "id": "b6d32382",
   "metadata": {},
   "outputs": [
    {
     "name": "stdout",
     "output_type": "stream",
     "text": [
      "4058\n",
      "Support Vector Machines: \n",
      "Training accuracy: 0.9096385542168675\n",
      "Testing accuracy: 0.8472906403940886\n",
      "Random Forest Classifier :\n",
      "Training accuracy: 1.0\n",
      "Testing accuracy: 0.9605911330049262\n",
      "Logistic Regression Classifier :\n",
      "Training accuracy: 0.7409638554216867\n",
      "Testing accuracy: 0.6798029556650246\n",
      "Multi Layer Perceptron :\n",
      "Training accuracy: 1.0\n",
      "Testing accuracy: 0.9064039408866995\n"
     ]
    }
   ],
   "source": [
    "test1_3('WC',27,9,C_label)"
   ]
  },
  {
   "cell_type": "code",
   "execution_count": 103,
   "id": "09b80301",
   "metadata": {},
   "outputs": [
    {
     "name": "stdout",
     "output_type": "stream",
     "text": [
      "4089\n",
      "Support Vector Machines: \n",
      "Training accuracy: 0.91875\n",
      "Testing accuracy: 0.8581907090464548\n",
      "Random Forest Classifier :\n",
      "Training accuracy: 1.0\n",
      "Testing accuracy: 0.9633251833740831\n",
      "Logistic Regression Classifier :\n",
      "Training accuracy: 0.8173913043478261\n",
      "Testing accuracy: 0.8117359413202934\n",
      "Multi Layer Perceptron :\n",
      "Training accuracy: 0.9997282608695652\n",
      "Testing accuracy: 0.9168704156479217\n"
     ]
    }
   ],
   "source": [
    "test1_3('EA',36,9,A_label)"
   ]
  },
  {
   "cell_type": "code",
   "execution_count": 104,
   "id": "640a29dc",
   "metadata": {},
   "outputs": [
    {
     "name": "stdout",
     "output_type": "stream",
     "text": [
      "4155\n",
      "Support Vector Machines: \n",
      "Training accuracy: 0.9285905322278684\n",
      "Testing accuracy: 0.9014423076923077\n",
      "Random Forest Classifier :\n",
      "Training accuracy: 1.0\n",
      "Testing accuracy: 0.96875\n",
      "Logistic Regression Classifier :\n",
      "Training accuracy: 0.8395292859053223\n",
      "Testing accuracy: 0.8317307692307693\n",
      "Multi Layer Perceptron :\n",
      "Training accuracy: 0.9906392083444772\n",
      "Testing accuracy: 0.9399038461538461\n"
     ]
    }
   ],
   "source": [
    "test1_3('WA',45,9,A_label)"
   ]
  },
  {
   "cell_type": "code",
   "execution_count": 105,
   "id": "6e2bfe10",
   "metadata": {},
   "outputs": [
    {
     "name": "stdout",
     "output_type": "stream",
     "text": [
      "4546\n",
      "Support Vector Machines: \n",
      "Training accuracy: 1.0\n",
      "Testing accuracy: 1.0\n",
      "Random Forest Classifier :\n",
      "Training accuracy: 1.0\n",
      "Testing accuracy: 0.9978021978021978\n",
      "Logistic Regression Classifier :\n",
      "Training accuracy: 1.0\n",
      "Testing accuracy: 1.0\n",
      "Multi Layer Perceptron :\n",
      "Training accuracy: 1.0\n",
      "Testing accuracy: 1.0\n"
     ]
    }
   ],
   "source": [
    "test2('AM',54,3,AM_LC_label)"
   ]
  },
  {
   "cell_type": "code",
   "execution_count": 106,
   "id": "8ae95625",
   "metadata": {},
   "outputs": [
    {
     "name": "stdout",
     "output_type": "stream",
     "text": [
      "4546\n",
      "Support Vector Machines: \n",
      "Training accuracy: 0.99120019555121\n",
      "Testing accuracy: 0.989010989010989\n",
      "Random Forest Classifier :\n",
      "Training accuracy: 1.0\n",
      "Testing accuracy: 0.9824175824175824\n",
      "Logistic Regression Classifier :\n",
      "Training accuracy: 1.0\n",
      "Testing accuracy: 1.0\n",
      "Multi Layer Perceptron :\n",
      "Training accuracy: 1.0\n",
      "Testing accuracy: 1.0\n"
     ]
    }
   ],
   "source": [
    "test2('LC',57,4,AM_LC_label)"
   ]
  },
  {
   "cell_type": "code",
   "execution_count": 107,
   "id": "3d326e7d",
   "metadata": {},
   "outputs": [
    {
     "name": "stdout",
     "output_type": "stream",
     "text": [
      "4546\n",
      "Support Vector Machines: \n",
      "Training accuracy: 0.9943779027132731\n",
      "Testing accuracy: 0.9978021978021978\n",
      "Random Forest Classifier :\n",
      "Training accuracy: 1.0\n",
      "Testing accuracy: 0.9714285714285714\n",
      "Logistic Regression Classifier :\n",
      "Training accuracy: 1.0\n",
      "Testing accuracy: 1.0\n",
      "Multi Layer Perceptron :\n",
      "Training accuracy: 1.0\n",
      "Testing accuracy: 1.0\n"
     ]
    }
   ],
   "source": [
    "test2('MC',61,4,rest_label)"
   ]
  },
  {
   "cell_type": "code",
   "execution_count": 108,
   "id": "e7ca90e8",
   "metadata": {},
   "outputs": [
    {
     "name": "stdout",
     "output_type": "stream",
     "text": [
      "4546\n",
      "Support Vector Machines: \n",
      "Training accuracy: 1.0\n",
      "Testing accuracy: 1.0\n",
      "Random Forest Classifier :\n",
      "Training accuracy: 1.0\n",
      "Testing accuracy: 1.0\n",
      "Logistic Regression Classifier :\n",
      "Training accuracy: 1.0\n",
      "Testing accuracy: 1.0\n",
      "Multi Layer Perceptron :\n",
      "Training accuracy: 1.0\n",
      "Testing accuracy: 1.0\n"
     ]
    }
   ],
   "source": [
    "test2('ND',65,2,rest_label)"
   ]
  },
  {
   "cell_type": "code",
   "execution_count": 109,
   "id": "5c910c31",
   "metadata": {},
   "outputs": [
    {
     "name": "stdout",
     "output_type": "stream",
     "text": [
      "4546\n",
      "Support Vector Machines: \n",
      "Training accuracy: 0.9980444879002689\n",
      "Testing accuracy: 1.0\n",
      "Random Forest Classifier :\n",
      "Training accuracy: 1.0\n",
      "Testing accuracy: 0.9956043956043956\n",
      "Logistic Regression Classifier :\n",
      "Training accuracy: 1.0\n",
      "Testing accuracy: 1.0\n",
      "Multi Layer Perceptron :\n",
      "Training accuracy: 1.0\n",
      "Testing accuracy: 1.0\n"
     ]
    }
   ],
   "source": [
    "test2('PfW',67,3,rest_label)"
   ]
  },
  {
   "cell_type": "code",
   "execution_count": 110,
   "id": "e59d0d12",
   "metadata": {},
   "outputs": [
    {
     "name": "stdout",
     "output_type": "stream",
     "text": [
      "4546\n",
      "Support Vector Machines: \n",
      "Training accuracy: 0.9965778538254706\n",
      "Testing accuracy: 0.9956043956043956\n",
      "Random Forest Classifier :\n",
      "Training accuracy: 1.0\n",
      "Testing accuracy: 0.989010989010989\n",
      "Logistic Regression Classifier :\n",
      "Training accuracy: 1.0\n",
      "Testing accuracy: 1.0\n",
      "Multi Layer Perceptron :\n",
      "Training accuracy: 1.0\n",
      "Testing accuracy: 1.0\n"
     ]
    }
   ],
   "source": [
    "test2('SE',70,4,rest_label)"
   ]
  },
  {
   "cell_type": "code",
   "execution_count": 111,
   "id": "7776312b",
   "metadata": {},
   "outputs": [
    {
     "name": "stdout",
     "output_type": "stream",
     "text": [
      "4544\n",
      "Support Vector Machines: \n",
      "Training accuracy: 0.9960870628515529\n",
      "Testing accuracy: 0.9824175824175824\n",
      "Random Forest Classifier :\n",
      "Training accuracy: 1.0\n",
      "Testing accuracy: 0.9560439560439561\n",
      "Logistic Regression Classifier :\n",
      "Training accuracy: 1.0\n",
      "Testing accuracy: 1.0\n",
      "Multi Layer Perceptron :\n",
      "Training accuracy: 1.0\n",
      "Testing accuracy: 0.9956043956043956\n"
     ]
    }
   ],
   "source": [
    "test1_3('E',74,10,EN_label)"
   ]
  },
  {
   "cell_type": "code",
   "execution_count": 112,
   "id": "02674ad4",
   "metadata": {},
   "outputs": [
    {
     "name": "stdout",
     "output_type": "stream",
     "text": [
      "4546\n",
      "Support Vector Machines: \n",
      "Training accuracy: 0.9973111708628697\n",
      "Testing accuracy: 0.9824175824175824\n",
      "Random Forest Classifier :\n",
      "Training accuracy: 1.0\n",
      "Testing accuracy: 0.967032967032967\n",
      "Logistic Regression Classifier :\n",
      "Training accuracy: 1.0\n",
      "Testing accuracy: 1.0\n",
      "Multi Layer Perceptron :\n",
      "Training accuracy: 1.0\n",
      "Testing accuracy: 0.989010989010989\n"
     ]
    }
   ],
   "source": [
    "test1_3('A',84,10,AO_label)"
   ]
  },
  {
   "cell_type": "code",
   "execution_count": 113,
   "id": "fa5af1a3",
   "metadata": {},
   "outputs": [
    {
     "name": "stdout",
     "output_type": "stream",
     "text": [
      "4545\n",
      "Support Vector Machines: \n",
      "Training accuracy: 0.9941320293398533\n",
      "Testing accuracy: 0.9758241758241758\n",
      "Random Forest Classifier :\n",
      "Training accuracy: 1.0\n",
      "Testing accuracy: 0.9384615384615385\n",
      "Logistic Regression Classifier :\n",
      "Training accuracy: 1.0\n",
      "Testing accuracy: 1.0\n",
      "Multi Layer Perceptron :\n",
      "Training accuracy: 1.0\n",
      "Testing accuracy: 0.9978021978021978\n"
     ]
    }
   ],
   "source": [
    "test1_3('C',94,10,C3_label)"
   ]
  },
  {
   "cell_type": "code",
   "execution_count": 114,
   "id": "02fd664e",
   "metadata": {},
   "outputs": [
    {
     "name": "stdout",
     "output_type": "stream",
     "text": [
      "4546\n",
      "Support Vector Machines: \n",
      "Training accuracy: 0.995600097775605\n",
      "Testing accuracy: 0.9824175824175824\n",
      "Random Forest Classifier :\n",
      "Training accuracy: 1.0\n",
      "Testing accuracy: 0.9516483516483516\n",
      "Logistic Regression Classifier :\n",
      "Training accuracy: 1.0\n",
      "Testing accuracy: 1.0\n",
      "Multi Layer Perceptron :\n",
      "Training accuracy: 1.0\n",
      "Testing accuracy: 0.9978021978021978\n"
     ]
    }
   ],
   "source": [
    "test1_3('N',104,10,EN_label)"
   ]
  },
  {
   "cell_type": "code",
   "execution_count": 115,
   "id": "a5c5b659",
   "metadata": {},
   "outputs": [
    {
     "name": "stdout",
     "output_type": "stream",
     "text": [
      "4546\n",
      "Support Vector Machines: \n",
      "Training accuracy: 0.9975556098753361\n",
      "Testing accuracy: 0.9934065934065934\n",
      "Random Forest Classifier :\n",
      "Training accuracy: 1.0\n",
      "Testing accuracy: 0.967032967032967\n",
      "Logistic Regression Classifier :\n",
      "Training accuracy: 1.0\n",
      "Testing accuracy: 1.0\n",
      "Multi Layer Perceptron :\n",
      "Training accuracy: 1.0\n",
      "Testing accuracy: 0.9912087912087912\n"
     ]
    }
   ],
   "source": [
    "test1_3('O',114,10,AO_label)"
   ]
  }
 ],
 "metadata": {
  "kernelspec": {
   "display_name": "Python 3 (ipykernel)",
   "language": "python",
   "name": "python3"
  },
  "language_info": {
   "codemirror_mode": {
    "name": "ipython",
    "version": 3
   },
   "file_extension": ".py",
   "mimetype": "text/x-python",
   "name": "python",
   "nbconvert_exporter": "python",
   "pygments_lexer": "ipython3",
   "version": "3.9.7"
  }
 },
 "nbformat": 4,
 "nbformat_minor": 5
}
